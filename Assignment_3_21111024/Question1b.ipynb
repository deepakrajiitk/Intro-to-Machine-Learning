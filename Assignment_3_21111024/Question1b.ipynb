{
 "cells": [
  {
   "cell_type": "markdown",
   "metadata": {},
   "source": [
    "# Importing libraries"
   ]
  },
  {
   "cell_type": "code",
   "execution_count": 1,
   "metadata": {},
   "outputs": [],
   "source": [
    "import pandas as pd\n",
    "import matplotlib.pyplot as plt\n",
    "import numpy"
   ]
  },
  {
   "cell_type": "markdown",
   "metadata": {},
   "source": [
    "# Importing dataset"
   ]
  },
  {
   "cell_type": "code",
   "execution_count": 2,
   "metadata": {},
   "outputs": [],
   "source": [
    "df = pd.read_csv(\"data_banknote_authentication.txt\",sep=\",\",header=None)\n",
    "df.columns = ['variance','skewness','curtosis','entropy','class']"
   ]
  },
  {
   "cell_type": "code",
   "execution_count": 3,
   "metadata": {},
   "outputs": [
    {
     "data": {
      "text/html": [
       "<div>\n",
       "<style scoped>\n",
       "    .dataframe tbody tr th:only-of-type {\n",
       "        vertical-align: middle;\n",
       "    }\n",
       "\n",
       "    .dataframe tbody tr th {\n",
       "        vertical-align: top;\n",
       "    }\n",
       "\n",
       "    .dataframe thead th {\n",
       "        text-align: right;\n",
       "    }\n",
       "</style>\n",
       "<table border=\"1\" class=\"dataframe\">\n",
       "  <thead>\n",
       "    <tr style=\"text-align: right;\">\n",
       "      <th></th>\n",
       "      <th>variance</th>\n",
       "      <th>skewness</th>\n",
       "      <th>curtosis</th>\n",
       "      <th>entropy</th>\n",
       "      <th>class</th>\n",
       "    </tr>\n",
       "  </thead>\n",
       "  <tbody>\n",
       "    <tr>\n",
       "      <th>0</th>\n",
       "      <td>3.62160</td>\n",
       "      <td>8.6661</td>\n",
       "      <td>-2.8073</td>\n",
       "      <td>-0.44699</td>\n",
       "      <td>0</td>\n",
       "    </tr>\n",
       "    <tr>\n",
       "      <th>1</th>\n",
       "      <td>4.54590</td>\n",
       "      <td>8.1674</td>\n",
       "      <td>-2.4586</td>\n",
       "      <td>-1.46210</td>\n",
       "      <td>0</td>\n",
       "    </tr>\n",
       "    <tr>\n",
       "      <th>2</th>\n",
       "      <td>3.86600</td>\n",
       "      <td>-2.6383</td>\n",
       "      <td>1.9242</td>\n",
       "      <td>0.10645</td>\n",
       "      <td>0</td>\n",
       "    </tr>\n",
       "    <tr>\n",
       "      <th>3</th>\n",
       "      <td>3.45660</td>\n",
       "      <td>9.5228</td>\n",
       "      <td>-4.0112</td>\n",
       "      <td>-3.59440</td>\n",
       "      <td>0</td>\n",
       "    </tr>\n",
       "    <tr>\n",
       "      <th>4</th>\n",
       "      <td>0.32924</td>\n",
       "      <td>-4.4552</td>\n",
       "      <td>4.5718</td>\n",
       "      <td>-0.98880</td>\n",
       "      <td>0</td>\n",
       "    </tr>\n",
       "  </tbody>\n",
       "</table>\n",
       "</div>"
      ],
      "text/plain": [
       "   variance  skewness  curtosis  entropy  class\n",
       "0   3.62160    8.6661   -2.8073 -0.44699      0\n",
       "1   4.54590    8.1674   -2.4586 -1.46210      0\n",
       "2   3.86600   -2.6383    1.9242  0.10645      0\n",
       "3   3.45660    9.5228   -4.0112 -3.59440      0\n",
       "4   0.32924   -4.4552    4.5718 -0.98880      0"
      ]
     },
     "execution_count": 3,
     "metadata": {},
     "output_type": "execute_result"
    }
   ],
   "source": [
    "df.head()"
   ]
  },
  {
   "cell_type": "markdown",
   "metadata": {},
   "source": [
    "replacing 0 values in 'class' column by -1 because our perceptron algo works when class labes are +1 and -1"
   ]
  },
  {
   "cell_type": "code",
   "execution_count": 4,
   "metadata": {},
   "outputs": [],
   "source": [
    "df['class'].replace(0,-1, inplace = True)"
   ]
  },
  {
   "cell_type": "code",
   "execution_count": 5,
   "metadata": {},
   "outputs": [
    {
     "data": {
      "text/html": [
       "<div>\n",
       "<style scoped>\n",
       "    .dataframe tbody tr th:only-of-type {\n",
       "        vertical-align: middle;\n",
       "    }\n",
       "\n",
       "    .dataframe tbody tr th {\n",
       "        vertical-align: top;\n",
       "    }\n",
       "\n",
       "    .dataframe thead th {\n",
       "        text-align: right;\n",
       "    }\n",
       "</style>\n",
       "<table border=\"1\" class=\"dataframe\">\n",
       "  <thead>\n",
       "    <tr style=\"text-align: right;\">\n",
       "      <th></th>\n",
       "      <th>variance</th>\n",
       "      <th>skewness</th>\n",
       "      <th>curtosis</th>\n",
       "      <th>entropy</th>\n",
       "      <th>class</th>\n",
       "    </tr>\n",
       "  </thead>\n",
       "  <tbody>\n",
       "    <tr>\n",
       "      <th>0</th>\n",
       "      <td>3.62160</td>\n",
       "      <td>8.6661</td>\n",
       "      <td>-2.8073</td>\n",
       "      <td>-0.44699</td>\n",
       "      <td>-1</td>\n",
       "    </tr>\n",
       "    <tr>\n",
       "      <th>1</th>\n",
       "      <td>4.54590</td>\n",
       "      <td>8.1674</td>\n",
       "      <td>-2.4586</td>\n",
       "      <td>-1.46210</td>\n",
       "      <td>-1</td>\n",
       "    </tr>\n",
       "    <tr>\n",
       "      <th>2</th>\n",
       "      <td>3.86600</td>\n",
       "      <td>-2.6383</td>\n",
       "      <td>1.9242</td>\n",
       "      <td>0.10645</td>\n",
       "      <td>-1</td>\n",
       "    </tr>\n",
       "    <tr>\n",
       "      <th>3</th>\n",
       "      <td>3.45660</td>\n",
       "      <td>9.5228</td>\n",
       "      <td>-4.0112</td>\n",
       "      <td>-3.59440</td>\n",
       "      <td>-1</td>\n",
       "    </tr>\n",
       "    <tr>\n",
       "      <th>4</th>\n",
       "      <td>0.32924</td>\n",
       "      <td>-4.4552</td>\n",
       "      <td>4.5718</td>\n",
       "      <td>-0.98880</td>\n",
       "      <td>-1</td>\n",
       "    </tr>\n",
       "  </tbody>\n",
       "</table>\n",
       "</div>"
      ],
      "text/plain": [
       "   variance  skewness  curtosis  entropy  class\n",
       "0   3.62160    8.6661   -2.8073 -0.44699     -1\n",
       "1   4.54590    8.1674   -2.4586 -1.46210     -1\n",
       "2   3.86600   -2.6383    1.9242  0.10645     -1\n",
       "3   3.45660    9.5228   -4.0112 -3.59440     -1\n",
       "4   0.32924   -4.4552    4.5718 -0.98880     -1"
      ]
     },
     "execution_count": 5,
     "metadata": {},
     "output_type": "execute_result"
    }
   ],
   "source": [
    "df.head()"
   ]
  },
  {
   "cell_type": "markdown",
   "metadata": {},
   "source": [
    "Checking for null values in dataset"
   ]
  },
  {
   "cell_type": "code",
   "execution_count": 6,
   "metadata": {},
   "outputs": [
    {
     "data": {
      "text/plain": [
       "variance    0\n",
       "skewness    0\n",
       "curtosis    0\n",
       "entropy     0\n",
       "class       0\n",
       "dtype: int64"
      ]
     },
     "execution_count": 6,
     "metadata": {},
     "output_type": "execute_result"
    }
   ],
   "source": [
    "df.isnull().sum()"
   ]
  },
  {
   "cell_type": "code",
   "execution_count": 7,
   "metadata": {},
   "outputs": [
    {
     "data": {
      "text/plain": [
       "-1    762\n",
       " 1    610\n",
       "Name: class, dtype: int64"
      ]
     },
     "execution_count": 7,
     "metadata": {},
     "output_type": "execute_result"
    }
   ],
   "source": [
    "df['class'].value_counts()"
   ]
  },
  {
   "cell_type": "code",
   "execution_count": 8,
   "metadata": {},
   "outputs": [],
   "source": [
    "# function to find the W vector\n",
    "def perceptron_algo(df, w0, learn_rate = .1, epochs = 1000):\n",
    "    w = w0\n",
    "    flag = True\n",
    "    for _ in range(epochs):\n",
    "        # getting random row from dataset\n",
    "        rand_row = df.sample()\n",
    "        x_n = rand_row.iloc[:,:-1].values\n",
    "        y_n = rand_row.iloc[:,-1].values\n",
    "        prediction = (y_n * numpy.dot(w,x_n.T)).item(0)\n",
    "        # if prediction<0 means current w made a mistake on (x_n,y_n) therefore we will change w\n",
    "        if prediction<0:\n",
    "            w = w + numpy.dot(y_n,x_n)\n",
    "    return w"
   ]
  },
  {
   "cell_type": "code",
   "execution_count": 9,
   "metadata": {},
   "outputs": [
    {
     "name": "stdout",
     "output_type": "stream",
     "text": [
      "W returned by perceptron algo is\n",
      "[-26.519596 -29.627655  -7.480655 -19.040518]\n"
     ]
    }
   ],
   "source": [
    "# initialing w array as array contains all 1's \n",
    "w0 = numpy.ones([1,df.shape[1]-1], dtype=int)\n",
    "W = perceptron_algo(df, w0)\n",
    "print(\"W returned by perceptron algo is\")\n",
    "print(W[0])\n"
   ]
  },
  {
   "cell_type": "code",
   "execution_count": 10,
   "metadata": {},
   "outputs": [],
   "source": [
    "# this function will predict the 'class' using weight vector W\n",
    "# function return predicted values along with percentage error\n",
    "def predict(df,W):\n",
    "    X = df.iloc[:,:-1].values\n",
    "    Y = df.iloc[:,-1].values\n",
    "    Y_pred = []\n",
    "    for i in range(X.shape[0]):\n",
    "        temp = numpy.dot(W,X[i].T).item(0)\n",
    "        # if sign is negative means class is -1\n",
    "        if temp<0:\n",
    "            Y_pred.append(-1)\n",
    "        # if sign is positive means class is +1\n",
    "        else:\n",
    "            Y_pred.append(1)\n",
    "    # calcuating percetage error\n",
    "    error = 100 - numpy.sum(numpy.equal(Y,Y_pred))/len(Y)*100\n",
    "    return [Y_pred, error]"
   ]
  },
  {
   "cell_type": "code",
   "execution_count": 11,
   "metadata": {},
   "outputs": [
    {
     "data": {
      "text/html": [
       "<div>\n",
       "<style scoped>\n",
       "    .dataframe tbody tr th:only-of-type {\n",
       "        vertical-align: middle;\n",
       "    }\n",
       "\n",
       "    .dataframe tbody tr th {\n",
       "        vertical-align: top;\n",
       "    }\n",
       "\n",
       "    .dataframe thead th {\n",
       "        text-align: right;\n",
       "    }\n",
       "</style>\n",
       "<table border=\"1\" class=\"dataframe\">\n",
       "  <thead>\n",
       "    <tr style=\"text-align: right;\">\n",
       "      <th></th>\n",
       "      <th>Actual_Class</th>\n",
       "      <th>Predicted_Class</th>\n",
       "    </tr>\n",
       "  </thead>\n",
       "  <tbody>\n",
       "    <tr>\n",
       "      <th>0</th>\n",
       "      <td>-1</td>\n",
       "      <td>-1</td>\n",
       "    </tr>\n",
       "    <tr>\n",
       "      <th>1</th>\n",
       "      <td>-1</td>\n",
       "      <td>-1</td>\n",
       "    </tr>\n",
       "    <tr>\n",
       "      <th>2</th>\n",
       "      <td>-1</td>\n",
       "      <td>-1</td>\n",
       "    </tr>\n",
       "    <tr>\n",
       "      <th>3</th>\n",
       "      <td>-1</td>\n",
       "      <td>-1</td>\n",
       "    </tr>\n",
       "    <tr>\n",
       "      <th>4</th>\n",
       "      <td>-1</td>\n",
       "      <td>1</td>\n",
       "    </tr>\n",
       "    <tr>\n",
       "      <th>...</th>\n",
       "      <td>...</td>\n",
       "      <td>...</td>\n",
       "    </tr>\n",
       "    <tr>\n",
       "      <th>1367</th>\n",
       "      <td>1</td>\n",
       "      <td>-1</td>\n",
       "    </tr>\n",
       "    <tr>\n",
       "      <th>1368</th>\n",
       "      <td>1</td>\n",
       "      <td>1</td>\n",
       "    </tr>\n",
       "    <tr>\n",
       "      <th>1369</th>\n",
       "      <td>1</td>\n",
       "      <td>1</td>\n",
       "    </tr>\n",
       "    <tr>\n",
       "      <th>1370</th>\n",
       "      <td>1</td>\n",
       "      <td>1</td>\n",
       "    </tr>\n",
       "    <tr>\n",
       "      <th>1371</th>\n",
       "      <td>1</td>\n",
       "      <td>1</td>\n",
       "    </tr>\n",
       "  </tbody>\n",
       "</table>\n",
       "<p>1372 rows × 2 columns</p>\n",
       "</div>"
      ],
      "text/plain": [
       "      Actual_Class  Predicted_Class\n",
       "0               -1               -1\n",
       "1               -1               -1\n",
       "2               -1               -1\n",
       "3               -1               -1\n",
       "4               -1                1\n",
       "...            ...              ...\n",
       "1367             1               -1\n",
       "1368             1                1\n",
       "1369             1                1\n",
       "1370             1                1\n",
       "1371             1                1\n",
       "\n",
       "[1372 rows x 2 columns]"
      ]
     },
     "execution_count": 11,
     "metadata": {},
     "output_type": "execute_result"
    }
   ],
   "source": [
    "res = predict(df,W)\n",
    "output =pd.DataFrame(columns=['Actual_Class','Predicted_Class'])\n",
    "output['Actual_Class'] = df['class']\n",
    "output['Predicted_Class'] = res[0]\n",
    "output"
   ]
  },
  {
   "cell_type": "code",
   "execution_count": 12,
   "metadata": {},
   "outputs": [
    {
     "name": "stdout",
     "output_type": "stream",
     "text": [
      "percentage of error is 15.889212827988345\n"
     ]
    }
   ],
   "source": [
    "print(\"percentage of error is\",res[1])"
   ]
  },
  {
   "cell_type": "code",
   "execution_count": 13,
   "metadata": {},
   "outputs": [],
   "source": [
    "# splitting data in to train and test set\n",
    "train=df.sample(frac=0.8,random_state=100)\n",
    "test=df.drop(train.index).sample(frac=1.0)"
   ]
  },
  {
   "cell_type": "code",
   "execution_count": 14,
   "metadata": {},
   "outputs": [],
   "source": [
    "def K_Fold(data,K):\n",
    "    data = data.sample(frac=1.0,random_state=100)\n",
    "    # splitting array into K folds  \n",
    "    folds=numpy.array_split(data, K)\n",
    "    min_error = numpy.inf\n",
    "    for j in range(K):\n",
    "        total = folds[:j]+folds[j+1:]\n",
    "        train = pd.concat(total)\n",
    "        test = folds[j]\n",
    "        W = perceptron_algo(train, w0)\n",
    "        error = predict(test,W)[1]\n",
    "        if error<min_error:\n",
    "            min_error = error\n",
    "            best_W = W\n",
    "    return [min_error, best_W]"
   ]
  },
  {
   "cell_type": "code",
   "execution_count": 15,
   "metadata": {},
   "outputs": [
    {
     "name": "stdout",
     "output_type": "stream",
     "text": [
      "optimal W is 2.173913043478265\n",
      "minimum error is [[-33.246199 -25.088463 -19.341566 -16.07175 ]]\n"
     ]
    }
   ],
   "source": [
    "res = K_Fold(df,10)\n",
    "min_error = res[0]\n",
    "opt_W = res[1]\n",
    "print(\"optimal W is\",min_error)\n",
    "print(\"minimum error is\",opt_W)"
   ]
  },
  {
   "cell_type": "code",
   "execution_count": 16,
   "metadata": {},
   "outputs": [],
   "source": [
    "# this function find the f1 score\n",
    "def find_F1_Score(data, W):\n",
    "    df = pd.DataFrame()\n",
    "    df['Y'] = data.iloc[:,-1].values\n",
    "    df['Y_pred'] = predict(data,W)[0]\n",
    "    df_pos = df[df['Y']==1]\n",
    "    df_neg = df[df['Y']==-1]\n",
    "    TP = df_pos[df_pos['Y']==df_pos['Y_pred']].shape[0]\n",
    "    TN = df_neg[df_neg['Y']==df_neg['Y_pred']].shape[0]\n",
    "    FP = df_pos[df_pos['Y']!=df_pos['Y_pred']].shape[0]\n",
    "    FN = df_neg[df_neg['Y']!=df_neg['Y_pred']].shape[0]\n",
    "    # print(TP)\n",
    "    # print(FP)\n",
    "    # print(TN)\n",
    "    # print(FN)\n",
    "    precision = TP/(FP+TP)\n",
    "    recall = TP/(FN+TP)\n",
    "    F1_score= (2*recall*precision)/(precision+recall)\n",
    "    return F1_score"
   ]
  },
  {
   "cell_type": "code",
   "execution_count": 17,
   "metadata": {},
   "outputs": [
    {
     "name": "stdout",
     "output_type": "stream",
     "text": [
      "F1 Score is 0.9170305676855894\n"
     ]
    }
   ],
   "source": [
    "f1_score = find_F1_Score(test,opt_W)\n",
    "print(\"F1 Score is\",f1_score)"
   ]
  }
 ],
 "metadata": {
  "interpreter": {
   "hash": "9fca093f684e5e23aa26ff6116e81ad53d562196c00ead1a3caea9b3397a0987"
  },
  "kernelspec": {
   "display_name": "Python 3.8.8 64-bit ('base': conda)",
   "name": "python3"
  },
  "language_info": {
   "codemirror_mode": {
    "name": "ipython",
    "version": 3
   },
   "file_extension": ".py",
   "mimetype": "text/x-python",
   "name": "python",
   "nbconvert_exporter": "python",
   "pygments_lexer": "ipython3",
   "version": "3.8.8"
  },
  "orig_nbformat": 4
 },
 "nbformat": 4,
 "nbformat_minor": 2
}
