{
 "cells": [
  {
   "cell_type": "markdown",
   "metadata": {},
   "source": [
    "# Importing Libraries"
   ]
  },
  {
   "cell_type": "code",
   "execution_count": 11,
   "metadata": {},
   "outputs": [],
   "source": [
    "import numpy as np\n",
    "import math\n",
    "import matplotlib.pyplot as plt"
   ]
  },
  {
   "cell_type": "code",
   "execution_count": 12,
   "metadata": {},
   "outputs": [
    {
     "name": "stdout",
     "output_type": "stream",
     "text": [
      "[17.20148264 12.98396806 15.22212827  0.54428461 11.34944376  9.16837787\n",
      " 16.91349517 11.14117878  6.38675825  4.08461429 13.03119063  9.02372211\n",
      " 15.90285348 20.19985822  7.78465329  9.4899879   9.0388449   5.96941729\n",
      "  6.2821958   9.35865609 13.19774369  8.65517148 16.40558744 14.35746762\n",
      " 11.80531415 15.25761434  5.56493319 -1.74937796 13.74763713  8.59561023\n",
      "  4.58652575  7.97700844 12.32140664 11.26767663  8.49900161 13.69827064\n",
      "  4.82310067  5.32910012  9.17971733  5.25796835 24.36868853 14.43087021\n",
      "  5.63689531  7.39322559 10.23383718  0.84294839  9.25537786  5.06243283\n",
      "  2.68740674  7.67498229]\n"
     ]
    }
   ],
   "source": [
    "# generating random samples using normal distribution\n",
    "samples = np.random.normal(10,5,50)\n",
    "print(samples)"
   ]
  },
  {
   "cell_type": "markdown",
   "metadata": {},
   "source": [
    "# Symbols used and their meaning"
   ]
  },
  {
   "cell_type": "markdown",
   "metadata": {},
   "source": [
    "\n",
    "$\\mu$ = observations mean<br>\n",
    "$\\sigma_0$ = prior standard deviation<br>\n",
    "$\\mu_0$ = prior mean<br>\n",
    "$\\sigma_1$ = posterior standard deviation<br>\n",
    "$\\mu_1$ = posterior mean<br>"
   ]
  },
  {
   "cell_type": "code",
   "execution_count": 13,
   "metadata": {},
   "outputs": [],
   "source": [
    "mean_samples = samples.mean()"
   ]
  },
  {
   "cell_type": "code",
   "execution_count": 14,
   "metadata": {},
   "outputs": [],
   "source": [
    "# this function finds the normal distribution probablity\n",
    "def normpdf(x, mean, sd):\n",
    "    var = float(sd)**2\n",
    "    denom = (2*math.pi*var)**.5\n",
    "    num = math.exp(-(float(x)-float(mean))**2/(2*var))\n",
    "    return num/denom"
   ]
  },
  {
   "cell_type": "markdown",
   "metadata": {},
   "source": [
    "# PDF of Prior"
   ]
  },
  {
   "cell_type": "markdown",
   "metadata": {},
   "source": [
    "## Prior Distribution Function\n",
    "$p(\\theta) = \\frac{1}{\\sqrt{2\\pi\\sigma_0}}exp\\Bigg\\{ - \\frac{(y_n - \\mu_0)^2}{2(\\sigma_0)^2} \\Bigg\\}$"
   ]
  },
  {
   "cell_type": "code",
   "execution_count": 15,
   "metadata": {},
   "outputs": [
    {
     "data": {
      "image/png": "[encoded data removed]",
      "text/plain": [
       "<Figure size 432x288 with 1 Axes>"
      ]
     },
     "metadata": {
      "needs_background": "light"
     },
     "output_type": "display_data"
    }
   ],
   "source": [
    "mean_prior = 25\n",
    "sd_prior = 5\n",
    "start = mean_prior - 5*sd_prior\n",
    "end = mean_prior + 5*sd_prior\n",
    "# generating random points in range [start, end]\n",
    "X = np.random.uniform(start,end,1000)\n",
    "X.sort()\n",
    "Y_prior = []\n",
    "for i in X:\n",
    "    Y_prior.append(normpdf(i,mean_prior,sd_prior))\n",
    "plt.plot(X,Y_prior)\n",
    "plt.xlabel(\"Prior values\")\n",
    "plt.ylabel(\"Probablities\")\n",
    "plt.show()"
   ]
  },
  {
   "cell_type": "markdown",
   "metadata": {},
   "source": [
    "# PDF of Posterior"
   ]
  },
  {
   "cell_type": "markdown",
   "metadata": {},
   "source": [
    "\n",
    "## Posterior\n",
    "$p(\\theta) = \\frac{1}{\\sqrt{2\\pi\\sigma_1}}exp\\Bigg\\{ - \\frac{(y_n - \\mu_1)^2}{2(\\sigma_1)^2} \\Bigg\\}\\\\$\n",
    "$\\sigma_0$ = 25<br>\n",
    "$\\mu_0$ = 5<br>\n",
    "calculating mean and variance of posterior:<br>\n",
    "$\\sigma_1^2 = \\Bigg( \\frac{1}{\\sigma_0^2} + \\frac{1}{\\sigma^2/N} \\Bigg)^{-1}\\\\$\n",
    "$ \\mu_1 = \\sigma_1^2\\Bigg( \\frac{\\mu_0}{\\sigma_0^2} + \\frac{\\bar{y}}{\\sigma^2/N} \\Bigg) \\\\$\n",
    "on subtituting values we get, <br>\n",
    "$\\sigma_1^2$ = 0.49 <br>\n"
   ]
  },
  {
   "cell_type": "code",
   "execution_count": 16,
   "metadata": {},
   "outputs": [],
   "source": [
    "def find_posterior_mean(sd_posterior, mean_prior, sd_prior, mean_samples, sd_samples, N):\n",
    "    return (sd_posterior**2)*((mean_prior/sd_prior)+(mean_samples/((sd_samples**2)/N)))"
   ]
  },
  {
   "cell_type": "code",
   "execution_count": 17,
   "metadata": {},
   "outputs": [
    {
     "name": "stdout",
     "output_type": "stream",
     "text": [
      "mean of posterior is 12.003848575369034\n"
     ]
    }
   ],
   "source": [
    "mean_posterior = find_posterior_mean(0.7, mean_prior, sd_prior, mean_samples,5,50)\n",
    "print(\"mean of posterior is\",mean_posterior)"
   ]
  },
  {
   "cell_type": "code",
   "execution_count": 18,
   "metadata": {},
   "outputs": [
    {
     "data": {
      "text/plain": [
       "[<matplotlib.lines.Line2D at 0x21e94d54a30>]"
      ]
     },
     "execution_count": 18,
     "metadata": {},
     "output_type": "execute_result"
    },
    {
     "data": {
      "image/png": "[encoded data removed]",
      "text/plain": [
       "<Figure size 432x288 with 1 Axes>"
      ]
     },
     "metadata": {
      "needs_background": "light"
     },
     "output_type": "display_data"
    }
   ],
   "source": [
    "Y_posterior=[]\n",
    "for i in X:\n",
    "    Y_posterior.append(normpdf(i,mean_posterior,0.7))\n",
    "plt.plot(X,Y_posterior)"
   ]
  },
  {
   "cell_type": "markdown",
   "metadata": {},
   "source": [
    "# PDF of Likelihood"
   ]
  },
  {
   "cell_type": "markdown",
   "metadata": {},
   "source": [
    "The n observations with variance $\\sigma^2$ and mean $\\bar{y}$ is equivalent to 1 observation $y_1 = \\bar{y}$ with variance $\\sigma^2/N$"
   ]
  },
  {
   "cell_type": "markdown",
   "metadata": {},
   "source": [
    " $\\sigma^2/N = 25/50 \\\\\n",
    "      \\sigma^2/N = 0.5 $"
   ]
  },
  {
   "cell_type": "markdown",
   "metadata": {},
   "source": [
    "$p(y_n/\\theta) = \\frac{1}{\\sqrt{2\\pi\\sigma}}exp\\Bigg\\{ - \\frac{(\\bar{y_n} - \\mu)^2}{2(\\sigma)^2} \\Bigg\\}$"
   ]
  },
  {
   "cell_type": "code",
   "execution_count": 19,
   "metadata": {},
   "outputs": [
    {
     "data": {
      "text/plain": [
       "[<matplotlib.lines.Line2D at 0x21e94db2160>]"
      ]
     },
     "execution_count": 19,
     "metadata": {},
     "output_type": "execute_result"
    },
    {
     "data": {
      "image/png": "[encoded data removed]",
      "text/plain": [
       "<Figure size 432x288 with 1 Axes>"
      ]
     },
     "metadata": {
      "needs_background": "light"
     },
     "output_type": "display_data"
    }
   ],
   "source": [
    "Y_likelihood=[]\n",
    "for i in X:\n",
    "    # value of sigma here is sqrt of 0.5 = 0.707\n",
    "    Y_likelihood.append(normpdf(mean_samples,i,0.707))\n",
    "plt.plot(X,Y_likelihood)"
   ]
  },
  {
   "cell_type": "markdown",
   "metadata": {},
   "source": [
    "# Plotting all of them together"
   ]
  },
  {
   "cell_type": "code",
   "execution_count": 20,
   "metadata": {},
   "outputs": [
    {
     "data": {
      "image/png": "[encoded data removed]",
      "text/plain": [
       "<Figure size 432x288 with 1 Axes>"
      ]
     },
     "metadata": {
      "needs_background": "light"
     },
     "output_type": "display_data"
    }
   ],
   "source": [
    "plt.plot(X,Y_likelihood,color='b',label='Likelihood')\n",
    "plt.plot(X,Y_posterior,color='r',label='Posterior')\n",
    "plt.plot(X,Y_prior,color='g',label='Prior')\n",
    "plt.xlabel(\"Prior values\")\n",
    "plt.ylabel(\"Probablities\")\n",
    "plt.legend()\n",
    "plt.show()"
   ]
  }
 ],
 "metadata": {
  "interpreter": {
   "hash": "9fca093f684e5e23aa26ff6116e81ad53d562196c00ead1a3caea9b3397a0987"
  },
  "kernelspec": {
   "display_name": "Python 3.8.8 64-bit ('base': conda)",
   "name": "python3"
  },
  "language_info": {
   "codemirror_mode": {
    "name": "ipython",
    "version": 3
   },
   "file_extension": ".py",
   "mimetype": "text/x-python",
   "name": "python",
   "nbconvert_exporter": "python",
   "pygments_lexer": "ipython3",
   "version": "3.8.8"
  },
  "orig_nbformat": 4
 },
 "nbformat": 4,
 "nbformat_minor": 2
}
