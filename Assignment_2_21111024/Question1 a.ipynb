{
 "cells": [
  {
   "cell_type": "code",
   "execution_count": 1,
   "source": [
    "import numpy as np"
   ],
   "outputs": [],
   "metadata": {}
  },
  {
   "cell_type": "code",
   "execution_count": 2,
   "source": [
    "def gradient_descent(gradient, init_, learn_rate, n_iter = 50, tol = 1e-06):\r\n",
    "    x = init_\r\n",
    "    for _ in range(n_iter):\r\n",
    "        delta = -learn_rate * gradient(x)\r\n",
    "        if np.all(np.abs(delta) <= tol):\r\n",
    "            break\r\n",
    "        x += delta\r\n",
    "    return round(x*1000)/1000"
   ],
   "outputs": [],
   "metadata": {}
  },
  {
   "cell_type": "markdown",
   "source": [
    "# Q1. (i)"
   ],
   "metadata": {}
  },
  {
   "cell_type": "markdown",
   "source": [
    "$f'(x) = 2x + 3$"
   ],
   "metadata": {}
  },
  {
   "cell_type": "code",
   "execution_count": 3,
   "source": [
    "def gradient_1(x):\r\n",
    "    return 2*x + 3"
   ],
   "outputs": [],
   "metadata": {}
  },
  {
   "cell_type": "code",
   "execution_count": 5,
   "source": [
    "x = gradient_descent(gradient_1, 0, 0.2)\r\n",
    "x"
   ],
   "outputs": [
    {
     "output_type": "execute_result",
     "data": {
      "text/plain": [
       "-1.5"
      ]
     },
     "metadata": {},
     "execution_count": 5
    }
   ],
   "metadata": {}
  },
  {
   "cell_type": "code",
   "execution_count": 16,
   "source": [
    "f = (x)**2 + 3*x + 4\r\n",
    "f"
   ],
   "outputs": [
    {
     "output_type": "execute_result",
     "data": {
      "text/plain": [
       "4.259056"
      ]
     },
     "metadata": {},
     "execution_count": 16
    }
   ],
   "metadata": {}
  },
  {
   "cell_type": "markdown",
   "source": [
    "The stationary point we got is (-1.5, 1.75)  \r\n",
    "f''(x) at this point is 2 > 0, therefore this stationary point is the point of minima  "
   ],
   "metadata": {}
  },
  {
   "cell_type": "markdown",
   "source": [
    "# Q1. (ii)"
   ],
   "metadata": {}
  },
  {
   "cell_type": "markdown",
   "source": [
    "$f'(x) = 4x^3 - 6x + 2$"
   ],
   "metadata": {}
  },
  {
   "cell_type": "code",
   "execution_count": 11,
   "source": [
    "def gradient_2(x):\r\n",
    "    return 4*x**3 - 6*x + 2"
   ],
   "outputs": [],
   "metadata": {}
  },
  {
   "cell_type": "code",
   "execution_count": 12,
   "source": [
    "x = gradient_descent(gradient_2, 0, 0.2)\r\n",
    "x"
   ],
   "outputs": [
    {
     "output_type": "execute_result",
     "data": {
      "text/plain": [
       "0.084"
      ]
     },
     "metadata": {},
     "execution_count": 12
    }
   ],
   "metadata": {}
  },
  {
   "cell_type": "code",
   "execution_count": 14,
   "source": [
    "f = x**4 - 3*x**2 + 2*x\r\n",
    "f"
   ],
   "outputs": [
    {
     "output_type": "execute_result",
     "data": {
      "text/plain": [
       "0.146881787136"
      ]
     },
     "metadata": {},
     "execution_count": 14
    }
   ],
   "metadata": {}
  },
  {
   "cell_type": "markdown",
   "source": [
    "the stationary point we got is (0.084, 0.14688)  \r\n",
    "$f''(x) = 12x^2 - 6$  \r\n",
    "the value of f''(x) at this point is -5.91 < 0, therefore this point is the point of maxima"
   ],
   "metadata": {}
  },
  {
   "cell_type": "markdown",
   "source": [
    "we missed minima because of large step size  \r\n",
    "decreasing learning rate to 0.02"
   ],
   "metadata": {}
  },
  {
   "cell_type": "code",
   "execution_count": 17,
   "source": [
    "x = gradient_descent(gradient_2, 0, 0.02)\r\n",
    "x"
   ],
   "outputs": [
    {
     "output_type": "execute_result",
     "data": {
      "text/plain": [
       "-1.366"
      ]
     },
     "metadata": {},
     "execution_count": 17
    }
   ],
   "metadata": {}
  },
  {
   "cell_type": "code",
   "execution_count": 18,
   "source": [
    "f = x**4 - 3*x**2 + 2*x\r\n",
    "f"
   ],
   "outputs": [
    {
     "output_type": "execute_result",
     "data": {
      "text/plain": [
       "-4.848076206064"
      ]
     },
     "metadata": {},
     "execution_count": 18
    }
   ],
   "metadata": {}
  },
  {
   "cell_type": "markdown",
   "source": [
    "the stationary point we got is (-1.366, -4.848)  \r\n",
    "$f''(x) = 12x^2 - 6$  \r\n",
    "the value of f''(x) at this point is 16.39 > 0, therefore this point is the point of minima"
   ],
   "metadata": {}
  }
 ],
 "metadata": {
  "orig_nbformat": 4,
  "language_info": {
   "name": "python",
   "version": "3.9.6",
   "mimetype": "text/x-python",
   "codemirror_mode": {
    "name": "ipython",
    "version": 3
   },
   "pygments_lexer": "ipython3",
   "nbconvert_exporter": "python",
   "file_extension": ".py"
  },
  "kernelspec": {
   "name": "python3",
   "display_name": "Python 3.9.6 64-bit"
  },
  "interpreter": {
   "hash": "ac59ebe37160ed0dfa835113d9b8498d9f09ceb179beaac4002f036b9467c963"
  }
 },
 "nbformat": 4,
 "nbformat_minor": 2
}