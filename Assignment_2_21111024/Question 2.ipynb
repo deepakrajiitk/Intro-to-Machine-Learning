{
 "cells": [
  {
   "cell_type": "markdown",
   "source": [
    "# Q2. (i)"
   ],
   "metadata": {}
  },
  {
   "cell_type": "markdown",
   "source": [
    "## The probablity that someone has both Cold and a Fever:"
   ],
   "metadata": {}
  },
  {
   "cell_type": "markdown",
   "source": [
    "$P(Cold, Fever) = P(Fever/Cold)*P(Cold)$  \r\n"
   ],
   "metadata": {}
  },
  {
   "cell_type": "markdown",
   "source": [
    "$\\hspace{1cm}= 0.307 * 0.02$  \r\n"
   ],
   "metadata": {}
  },
  {
   "cell_type": "markdown",
   "source": [
    "$\\hspace{1cm} = 0.00614$"
   ],
   "metadata": {}
  },
  {
   "cell_type": "markdown",
   "source": [
    "# Q2 (ii)"
   ],
   "metadata": {}
  },
  {
   "cell_type": "markdown",
   "source": [
    "## The probablity that someone who has a Cough has a Cold:"
   ],
   "metadata": {}
  },
  {
   "cell_type": "markdown",
   "source": [
    "$P(Cold/Cough) = \\dfrac{P(Cough, Cold)}{P(Cough)}$"
   ],
   "metadata": {}
  },
  {
   "cell_type": "markdown",
   "source": [
    "$\\hspace{1cm}= \\dfrac{P(Cough, Cold, Lung) + P(Cold, Cough, !Lung)}{P(Cough, Cold, Lung)+P(Cold, Cough, !Lung)+P(!Cold, Cough, Lung)+P(!Cold, Cough, !Lung)}$"
   ],
   "metadata": {}
  },
  {
   "cell_type": "markdown",
   "source": [
    "$ P(Lung) = P(Lung, Smokes) + P(Lung, !Smokes)$"
   ],
   "metadata": {}
  },
  {
   "cell_type": "markdown",
   "source": [
    "$\\hspace{1cm}= P(Smokes) * P(Lung/Smokes) + P(!Smokes) * P(Lung/!Smokes) $"
   ],
   "metadata": {}
  },
  {
   "cell_type": "markdown",
   "source": [
    "$\\hspace{1cm} = 0.2 * 0.1009 + 0.8 * 0.001 $"
   ],
   "metadata": {}
  },
  {
   "cell_type": "markdown",
   "source": [
    "$\\hspace{1cm} = 0.02098 $"
   ],
   "metadata": {}
  },
  {
   "cell_type": "markdown",
   "source": [
    "$ P(!Lung) = P(!Lung, Smokes) + P(!Lung, !Smokes) $"
   ],
   "metadata": {}
  },
  {
   "cell_type": "markdown",
   "source": [
    "$\\hspace{1cm} = P(Smokes) * P(!Lung/Smokes) + P(!Smokes) * P(!Lung, !Smokes) $"
   ],
   "metadata": {}
  },
  {
   "cell_type": "markdown",
   "source": [
    "$\\hspace{1cm} = 0.2 * 0.8991 + 0.8 * 0.999 $"
   ],
   "metadata": {}
  },
  {
   "cell_type": "markdown",
   "source": [
    "$ \\hspace{1cm} = 0.97902 $"
   ],
   "metadata": {}
  },
  {
   "cell_type": "markdown",
   "source": [
    "$P(Cold, Cough, Lung) = P(Cough/Lung, Cold) * P(Cold) * P(Lung)$\r\n"
   ],
   "metadata": {}
  },
  {
   "cell_type": "markdown",
   "source": [
    "$\\hspace{1cm}= 0.7525*0.02*0.02098$\r\n"
   ],
   "metadata": {}
  },
  {
   "cell_type": "markdown",
   "source": [
    "$\\hspace{1cm}= 0.000315749$"
   ],
   "metadata": {}
  },
  {
   "cell_type": "markdown",
   "source": [
    "$P(Cold, Cough, !Lung) = P(Cough/!Lung, Cold)*P(Cold)*P(!Lung)$\r\n"
   ],
   "metadata": {}
  },
  {
   "cell_type": "markdown",
   "source": [
    "$\\hspace{1cm} = 0.505*02*0.97902$\r\n"
   ],
   "metadata": {}
  },
  {
   "cell_type": "markdown",
   "source": [
    "$\\hspace{1cm}= .009888101$"
   ],
   "metadata": {}
  },
  {
   "cell_type": "markdown",
   "source": [
    "$P(!Cold, Cough, Lung) = P(Cough/Lung, !Cold)*P(!Cold)*P(Lung)$\r\n"
   ],
   "metadata": {}
  },
  {
   "cell_type": "markdown",
   "source": [
    "$\\hspace{1cm} = 0.505*0.98*0.02098$\r\n"
   ],
   "metadata": {}
  },
  {
   "cell_type": "markdown",
   "source": [
    "$\\hspace{1cm} = .010383002$"
   ],
   "metadata": {}
  },
  {
   "cell_type": "markdown",
   "source": [
    "$P(!Cold, Cough, !Lung) = P(Cough/!Lung, !Cold)*P(!Cold)*P(!Lung)$\r\n"
   ],
   "metadata": {}
  },
  {
   "cell_type": "markdown",
   "source": [
    "$\\hspace{1cm} = 0.01*0.98*0.97902$\r\n"
   ],
   "metadata": {}
  },
  {
   "cell_type": "markdown",
   "source": [
    "$\\hspace{1cm}= 0.009594396$"
   ],
   "metadata": {}
  },
  {
   "cell_type": "markdown",
   "source": [
    "$P(Cold, Cough) = \\dfrac{0.0003 + 0.0098}{0.003 + 0.0103 + 0.0098 + 0.0095}$"
   ],
   "metadata": {}
  },
  {
   "cell_type": "markdown",
   "source": [
    "$P(Cold, Cough) = 0.3377$"
   ],
   "metadata": {}
  }
 ],
 "metadata": {
  "orig_nbformat": 4,
  "language_info": {
   "name": "python",
   "version": "3.8.8",
   "mimetype": "text/x-python",
   "codemirror_mode": {
    "name": "ipython",
    "version": 3
   },
   "pygments_lexer": "ipython3",
   "nbconvert_exporter": "python",
   "file_extension": ".py"
  },
  "kernelspec": {
   "name": "python3",
   "display_name": "Python 3.8.8 64-bit ('base': conda)"
  },
  "interpreter": {
   "hash": "9fca093f684e5e23aa26ff6116e81ad53d562196c00ead1a3caea9b3397a0987"
  }
 },
 "nbformat": 4,
 "nbformat_minor": 2
}