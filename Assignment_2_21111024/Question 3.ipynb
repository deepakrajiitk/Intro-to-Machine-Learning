{
 "cells": [
  {
   "cell_type": "markdown",
   "source": [
    "$\\text {Consider a positive integer } k \\text { and set of positive real numbers } p = (p_x) \\text { such that}$"
   ],
   "metadata": {}
  },
  {
   "cell_type": "markdown",
   "source": [
    " $\\sum_xp_x = 1$"
   ],
   "metadata": {}
  },
  {
   "cell_type": "markdown",
   "source": [
    " $\\text{The multinomial distribution with parameter } k \\text{ and } p \\text{ is the distribution } f_p \\text{ on the set of non-negative integers } k = (k_x) \\text{such that}$ "
   ],
   "metadata": {}
  },
  {
   "cell_type": "markdown",
   "source": [
    "$\r\n",
    "\\sum_xk_x = k$ "
   ],
   "metadata": {}
  },
  {
   "cell_type": "markdown",
   "source": [
    "$ \\text{defined by}$ "
   ],
   "metadata": {}
  },
  {
   "cell_type": "markdown",
   "source": [
    "$\r\n",
    " f_p(k) = k!.\\prod_x \\dfrac{p_x^{k_x}}{l_x!}$ "
   ],
   "metadata": {}
  },
  {
   "cell_type": "markdown",
   "source": [
    "$\\text{For some fixed observations } k, \\text{the likelihood is}$ "
   ],
   "metadata": {}
  },
  {
   "cell_type": "markdown",
   "source": [
    "$ \r\n",
    "L(p)=f_p(k)$ "
   ],
   "metadata": {}
  },
  {
   "cell_type": "markdown",
   "source": [
    "$\\text{with the constraint } C_p = 1, \\text{ where }$ "
   ],
   "metadata": {}
  },
  {
   "cell_type": "markdown",
   "source": [
    "$ \r\n",
    "C(p)=\\sum_xp_x. $"
   ],
   "metadata": {}
  },
  {
   "cell_type": "markdown",
   "source": [
    "$\\text{To maximize } L, \\text{ one asks that the gradient of } L \\text{ and the gradient of } C \\text{ are colinear, that is, that there exists } \\lambda \\text{ such that for every } x $ "
   ],
   "metadata": {}
  },
  {
   "cell_type": "markdown",
   "source": [
    "$\r\n",
    "\\dfrac{\\partial}{\\partial p_x}L(p) = \\lambda\\dfrac{\\partial}{\\partial p_xC(p)} $\r\n"
   ],
   "metadata": {}
  },
  {
   "cell_type": "markdown",
   "source": [
    "$\\text{In the present case, this reads}$ "
   ],
   "metadata": {}
  },
  {
   "cell_type": "markdown",
   "source": [
    "$ \r\n",
    "\\dfrac{k_x}{p_x}L(p) = \\lambda,$"
   ],
   "metadata": {}
  },
  {
   "cell_type": "markdown",
   "source": [
    " $\\text{that is } p_x \\text{ should be proportional to } k_x $ "
   ],
   "metadata": {}
  },
  {
   "cell_type": "markdown",
   "source": [
    "$\\text{ Since } \\sum_x p_x = 1, \\text{ one gets finally for every } x$"
   ],
   "metadata": {}
  },
  {
   "cell_type": "markdown",
   "source": [
    " $ \r\n",
    " \\hat{p}_x = \\dfrac{k_x}{k}$ "
   ],
   "metadata": {}
  }
 ],
 "metadata": {
  "orig_nbformat": 4,
  "language_info": {
   "name": "python",
   "version": "3.8.8"
  },
  "kernelspec": {
   "name": "python3",
   "display_name": "Python 3.8.8 64-bit ('base': conda)"
  },
  "interpreter": {
   "hash": "9fca093f684e5e23aa26ff6116e81ad53d562196c00ead1a3caea9b3397a0987"
  }
 },
 "nbformat": 4,
 "nbformat_minor": 2
}