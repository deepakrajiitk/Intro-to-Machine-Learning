{
 "cells": [
  {
   "cell_type": "code",
   "execution_count": null,
   "metadata": {},
   "outputs": [],
   "source": [
    "def perceptron_algo(df, w0, learn_rate = .1, epochs = 1000):\n",
    "    w = w0\n",
    "    flag = True\n",
    "    for _ in range(epochs):\n",
    "        rand_row = df.sample()\n",
    "        x_n = rand_row.iloc[:,:-1].values\n",
    "        y_n = rand_row.iloc[:,-1].values\n",
    "        prediction = (y_n * numpy.dot(w,x_n.T)).item(0)\n",
    "        if prediction<0:\n",
    "            w = w + numpy.dot(y_n,x_n)\n",
    "    return w"
   ]
  }
 ],
 "metadata": {
  "interpreter": {
   "hash": "9fca093f684e5e23aa26ff6116e81ad53d562196c00ead1a3caea9b3397a0987"
  },
  "kernelspec": {
   "display_name": "Python 3.8.8 64-bit ('base': conda)",
   "name": "python3"
  },
  "language_info": {
   "codemirror_mode": {
    "name": "ipython",
    "version": 3
   },
   "file_extension": ".py",
   "mimetype": "text/x-python",
   "name": "python",
   "nbconvert_exporter": "python",
   "pygments_lexer": "ipython3",
   "version": "3.8.8"
  },
  "orig_nbformat": 4
 },
 "nbformat": 4,
 "nbformat_minor": 2
}
